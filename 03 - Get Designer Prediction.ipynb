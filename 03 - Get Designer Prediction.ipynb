{
  "cells": [
    {
      "cell_type": "markdown",
      "metadata": {},
      "source": [
        "# Designer 파이프라인에서 당뇨병 예측 결과 가져오기\n",
        "\n",
        "**predict-diabetes** 서비스에 ***ENDPOINT*** 및 ***PRIMARY_KEY***를 사용하도록 아래 셀의 코드를 수정합니다. 그런 다음 셀을 실행하여 새 환자 데이터를 제출하고 예측된 분류를 검색합니다."
      ]
    },
    {
      "cell_type": "code",
      "execution_count": null,
      "metadata": {},
      "outputs": [],
      "source": [
        "endpoint = 'YOUR_ENDPOINT' #사용자 엔드포인트로 변경합니다.\n",
        "key = 'YOUR_KEY' #사용자 키로 변경합니다.\n",
        "\n",
        "import urllib.request\n",
        "import json\n",
        "import os\n",
        "\n",
        "data = {\n",
        "    \"Inputs\": {\n",
        "        \"WebServiceInput0\":\n",
        "        [\n",
        "            {\n",
        "                    'PatientID': 1882185,\n",
        "                    'Pregnancies': 9,\n",
        "                    'PlasmaGlucose': 104,\n",
        "                    'DiastolicBloodPressure': 51,\n",
        "                    'TricepsThickness': 7,\n",
        "                    'SerumInsulin': 24,\n",
        "                    'BMI': 27.36983156,\n",
        "                    'DiabetesPedigree': 1.3504720469999998,\n",
        "                    'Age': 43,\n",
        "            },\n",
        "        ],\n",
        "    },\n",
        "    \"GlobalParameters\":  {\n",
        "    }\n",
        "}\n",
        "\n",
        "body = str.encode(json.dumps(data))\n",
        "\n",
        "\n",
        "headers = {'Content-Type':'application/json', 'Authorization':('Bearer '+ key)}\n",
        "\n",
        "req = urllib.request.Request(endpoint, body, headers)\n",
        "\n",
        "try:\n",
        "    response = urllib.request.urlopen(req)\n",
        "    result = response.read()\n",
        "    json_result = json.loads(result)\n",
        "    output = json_result[\"Results\"][\"WebServiceOutput0\"][0]\n",
        "    print('Patient: {}\\nPrediction: {}\\nProbability: {:.2f}'.format(output[\"PatientID\"],\n",
        "                                                            output[\"DiabetesPrediction\"],\n",
        "                                                            output[\"Probability\"],))\n",
        "except urllib.error.HTTPError as error:\n",
        "    print(\"The request failed with status code: \" + str(error.code))\n",
        "\n",
        "    # 헤더를 프린트하여 디버그를 지원합니다.\n",
        "    print(error.info())\n",
        "    print(json.loads(error.read().decode(\"utf8\", 'ignore')))"
      ]
    }
  ],
  "metadata": {
    "kernelspec": {
      "display_name": "Python 3.6 - AzureML",
      "language": "python",
      "name": "python3-azureml"
    },
    "language_info": {
      "codemirror_mode": {
        "name": "ipython",
        "version": 3
      },
      "file_extension": ".py",
      "mimetype": "text/x-python",
      "name": "python",
      "nbconvert_exporter": "python",
      "pygments_lexer": "ipython3",
      "version": "3.6.9"
    }
  },
  "nbformat": 4,
  "nbformat_minor": 2
}