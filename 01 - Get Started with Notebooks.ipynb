{
  "cells": [
    {
      "cell_type": "markdown",
      "metadata": {},
      "source": [
        "# Azure Machine Learning에서 Notebook 사용 시작\n",
        "\n",
        "Azure Machine Learning은 기계 학습 솔루션 작성 및 관리용 클라우드 기반 서비스입니다. 데이터 과학자 및 기계 학습 엔지니어는 이 서비스를 통해 기존 데이터 처리 및 모델 개발 기술과 프레임워크를 활용할 수 있으며, 워크로드를 클라우드로 확장할 수 있습니다.\n",
        "\n",
        "대다수 데이터 과학 및 기계 학습 작업은 이 파일과 비슷한 Notebook에서 진행됩니다. Notebook에는 *셀*이 포함되어 있습니다. 이 텍스트가 들어 있는 셀처럼 메모, 그래픽, 그리고 보통 *Markdown*을 사용하여 작성되는 기타 콘텐츠에 사용되는 셀도 있고, 이 셀 아래의 셀처럼 Notebook 내에서 대화형으로 실행 가능한 코드가 포함된 셀도 있습니다.\n",
        "\n",
        "## Azure Machine Learning Python SDK\n",
        "\n",
        "Notebook에서는 사실상 어떤 Python 코드나 실행할 수 있습니다. 단, 코드를 실행하는 환경에 필요한 Python 패키지가 설치되어 있어야 합니다. 여기서는 Azure Machine Learning 컴퓨팅 인스턴스의 *Conda* 환경에서 Notebook을 실행합니다. 컴퓨팅 인스턴스에 기본적으로 설치되어 있는 이 환경에는 데이터 과학자가 일반적으로 사용하는 공통 Python 패키지가 포함되어 있습니다. 그리고 Azure Machine Learning Python SDK도 포함되어 있습니다. 이 SDK는 Azure Machine Learning 작업 영역의 리소스를 사용하는 코드를 작성하는 데 사용할 수 있는 Python 패키지입니다.\n",
        "\n",
        "아래 셀의 명령을 실행하여 **azureml-core** 패키지를 가져온 다음 설치되는 SDK의 버전을 확인합니다."
      ]
    },
    {
      "cell_type": "code",
      "execution_count": null,
      "metadata": {},
      "outputs": [],
      "source": [
        "import azureml.core\n",
        "\n",
        "print(\"Ready to use Azure ML\", azureml.core.VERSION)"
      ]
    },
    {
      "cell_type": "markdown",
      "metadata": {},
      "source": [
        "## 작업 영역에 연결합니다.\n",
        "\n",
        "Azure Machine Learning 작업 영역 내에서 모든 실험 및 관련 리소스를 관리합니다. 기존 작업 영역에 연결하거나 Azure Machine Learning SDK를 사용하여 새 작업 영역을 만들 수 있습니다.\n",
        "\n",
        "대부분의 경우에는 JSON 구성 파일에 작업 영역 연결 정보를 저장해야 합니다. 이렇게 하면 Azure 구독 ID 등의 세부 정보를 기억할 필요 없이 더욱 쉽게 연결할 수 있습니다. Azure Portal의 작업 영역 블레이드 또는 Azure Machine Learning Studio의 작업 영역 세부 정보 창에서 JSON 구성 파일을 다운로드할 수 있습니다. 그러나 작업 영역 내에서 컴퓨팅 인스턴스를 사용 중이라면 구성 파일은 루트 폴더에 이미 다운로드된 상태입니다.\n",
        "\n",
        "아래 코드는 구성 파일을 사용하여 작업 영역에 연결합니다.\n",
        "\n",
        "> **참고**: Notebook 세션에서 작업 영역에 처음 연결하면 Azure에 로그인하라는 메시지가 표시될 수 있습니다. 그러면 `https://microsoft.com/devicelogin` 링크를 클릭한 다음 자동 생성된 코드를 입력해 Azure에 로그인합니다. 정상적으로 로그인한 후에 열렸던 브라우저 탭을 닫고 이 Notebook으로 돌아오면 됩니다."
      ]
    },
    {
      "cell_type": "code",
      "execution_count": null,
      "metadata": {},
      "outputs": [],
      "source": [
        "from azureml.core import Workspace\n",
        "\n",
        "ws = Workspace.from_config()\n",
        "print(ws.name, \"loaded\")"
      ]
    },
    {
      "cell_type": "markdown",
      "metadata": {},
      "source": [
        "## 작업 영역에서 Azure Machine Learning 리소스 확인\n",
        "\n",
        "작업 영역에 연결한 후에는 리소스를 사용할 수 있습니다. 예를 들어 다음 코드를 사용하면 작업 영역의 컴퓨팅 리소스를 열거할 수 있습니다."
      ]
    },
    {
      "cell_type": "code",
      "execution_count": null,
      "metadata": {},
      "outputs": [],
      "source": [
        "print(\"Compute Resources:\")\n",
        "for compute_name in ws.compute_targets:\n",
        "    compute = ws.compute_targets[compute_name]\n",
        "    print(\"\\t\", compute.name, ':', compute.type)"
      ]
    },
    {
      "cell_type": "markdown",
      "metadata": {},
      "source": [
        "이 Notebook의 내용을 모두 살펴본 후에는 적용한 변경 내용을 저장하고 Notebook을 닫으면 됩니다."
      ]
    }
  ],
  "metadata": {
    "kernelspec": {
      "display_name": "Python 3.6 - AzureML",
      "language": "python",
      "name": "python3-azureml"
    },
    "language_info": {
      "codemirror_mode": {
        "name": "ipython",
        "version": 3
      },
      "file_extension": ".py",
      "mimetype": "text/x-python",
      "name": "python",
      "nbconvert_exporter": "python",
      "pygments_lexer": "ipython3",
      "version": "3.6.9"
    }
  },
  "nbformat": 4,
  "nbformat_minor": 2
}