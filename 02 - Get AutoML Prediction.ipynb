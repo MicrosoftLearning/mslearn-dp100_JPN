{
  "cells": [
    {
      "cell_type": "markdown",
      "source": [
        "# 자동화된 ML 엔드포인트에서 당뇨병 예측 결과 가져오기\n",
        "\n",
        "**auto-predict-diabetes** 서비스에 ***ENDPOINT*** 및 ***PRIMARY_KEY***를 사용하도록 아래 셀의 코드를 수정합니다. 그런 다음 셀을 실행하여 새 환자 데이터를 제출하고 예측된 분류를 검색합니다. "
      ],
      "metadata": {
        "nteract": {
          "transient": {
            "deleting": false
          }
        }
      }
    },
    {
      "cell_type": "code",
      "source": [
        "endpoint = 'ENDPOINT' #사용자 엔드포인트로 변경합니다.\n",
        "key = 'PRIMARY_KEY' #사용자 키로 변경합니다.\n",
        "\n",
        "import json\n",
        "import requests\n",
        "\n",
        "#환자용 기능\n",
        "x = [{\"PatientID\": 1,\n",
        "      \"Pregnancies\": 5,\n",
        "      \"PlasmaGlucose\": 181.0,\n",
        "      \"DiastolicBloodPressure\": 90.6,\n",
        "      \"TricepsThickness\": 34.0,\n",
        "      \"SerumInsulin\": 23.0,\n",
        "      \"BMI\": 43.51,\n",
        "      \"DiabetesPedigree\": 1.21,\n",
        "      \"Age\": 21.0}]\n",
        "\n",
        "#\"data\" JSON 개체 만들기\n",
        "input_json = json.dumps({\"data\": x})\n",
        "\n",
        "#요청의 콘텐츠 유형 및 인증 설정\n",
        "headers = {\"Content-Type\":\"application/json\",\n",
        "           \"Authorization\":\"Bearer \" + key}\n",
        "\n",
        "#요청 보내기\n",
        "response = requests.post(endpoint, input_json, headers=headers)\n",
        "\n",
        "#유효한 응답일 경우 예측 표시\n",
        "if response.status_code == 200:\n",
        "    y = json.loads(response.json())\n",
        "    #결과에서 첫 번째 예측 가져오기\n",
        "    print(\"Prediction:\", y[\"result\"][0])\n",
        "    if y[\"result\"][0] == 1:\n",
        "        print('Diabetic')\n",
        "    else:\n",
        "        print(\"Not Diabetic\")\n",
        "else:\n",
        "    print(response)"
      ],
      "outputs": [],
      "execution_count": null,
      "metadata": {
        "gather": {
          "logged": 1604605071290
        }
      }
    }
  ],
  "metadata": {
    "kernelspec": {
      "name": "python3-azureml",
      "language": "python",
      "display_name": "Python 3.6 - AzureML"
    },
    "language_info": {
      "name": "python",
      "version": "3.6.9",
      "mimetype": "text/x-python",
      "codemirror_mode": {
        "name": "ipython",
        "version": 3
      },
      "pygments_lexer": "ipython3",
      "nbconvert_exporter": "python",
      "file_extension": ".py"
    },
    "kernel_info": {
      "name": "python3-azureml"
    },
    "nteract": {
      "version": "nteract-front-end@1.0.0"
    }
  },
  "nbformat": 4,
  "nbformat_minor": 2
}